{
 "cells": [
  {
   "cell_type": "code",
   "execution_count": 4,
   "id": "b5db99b0",
   "metadata": {},
   "outputs": [],
   "source": [
    "from bs4 import BeautifulSoup\n",
    "import requests"
   ]
  },
  {
   "cell_type": "code",
   "execution_count": null,
   "id": "ecdb4d2d",
   "metadata": {},
   "outputs": [],
   "source": [
    "HEADERS = ({'User-Agent':'Mozilla/5.0 (Macintosh; Intel Mac OS X 10_15_7) AppleWebKit/605.1.15 (KHTML, like Gecko) Version/18.5 Safari/605.1.15',\n",
    "            'Accept-Language':'en-US, en;q=0.5',\n",
    "            'Connection': 'Keep-alive'})"
   ]
  },
  {
   "cell_type": "code",
   "execution_count": null,
   "id": "e425b04d",
   "metadata": {},
   "outputs": [
    {
     "data": {
      "text/plain": [
       "<Response [200]>"
      ]
     },
     "execution_count": 42,
     "metadata": {},
     "output_type": "execute_result"
    }
   ],
   "source": [
    "html_text = requests.get(\"https://www.amazon.co.uk/product-reviews/B0CHYV6312/ref=cm_cr_dp_d_show_all_btm?ie=UTF8&reviewerType=all_reviews\",\n",
    "                         headers = HEADERS)\n",
    "html_text"
   ]
  },
  {
   "cell_type": "code",
   "execution_count": 44,
   "id": "7f1f910b",
   "metadata": {},
   "outputs": [],
   "source": [
    "#write html to a file\n",
    "with open(\"Portfolio.html\", \"w\") as file:\n",
    "    file.write(html_text.text)"
   ]
  },
  {
   "cell_type": "code",
   "execution_count": null,
   "id": "01e77c76",
   "metadata": {},
   "outputs": [],
   "source": []
  }
 ],
 "metadata": {
  "kernelspec": {
   "display_name": "prophet",
   "language": "python",
   "name": "prophet"
  },
  "language_info": {
   "codemirror_mode": {
    "name": "ipython",
    "version": 3
   },
   "file_extension": ".py",
   "mimetype": "text/x-python",
   "name": "python",
   "nbconvert_exporter": "python",
   "pygments_lexer": "ipython3",
   "version": "3.13.3"
  }
 },
 "nbformat": 4,
 "nbformat_minor": 5
}
