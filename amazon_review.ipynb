{
 "cells": [
  {
   "cell_type": "code",
   "execution_count": 55,
   "id": "06027655",
   "metadata": {},
   "outputs": [],
   "source": [
    "from bs4 import BeautifulSoup\n",
    "import pandas as pd"
   ]
  },
  {
   "cell_type": "code",
   "execution_count": null,
   "id": "47c22272",
   "metadata": {},
   "outputs": [],
   "source": [
    "with open(\"reviews.html\",'r') as html_file:\n",
    "    content = html_file.read()\n",
    "    soup = BeautifulSoup(content)"
   ]
  },
  {
   "cell_type": "code",
   "execution_count": 57,
   "id": "34e85bd8",
   "metadata": {},
   "outputs": [],
   "source": [
    "review = soup.find(\"li\",class_ = \"review aok-relative\")\n",
    "date = review.find(\"span\",class_ = \"a-size-base a-color-secondary review-date\")\n",
    "review_text_span = review.find(\"span\",class_ = \"a-size-base review-text review-text-content\")\n",
    "review_text = review_text_span.find(\"span\").get_text(separator=\" \", strip=True)"
   ]
  },
  {
   "cell_type": "code",
   "execution_count": 58,
   "id": "2a364c9f",
   "metadata": {},
   "outputs": [
    {
     "data": {
      "text/plain": [
       "\"I've had my boAt Airdopes Prime for about a week now, and I'm seriously impressed.  As someone who uses earbuds daily, both for work calls and listening to music, I've tried my fair share of different brands and models. The Airdopes Prime has quickly become my new favourites. First off, the sound quality is fantastic.  It's clear, crisp, and has a decent amount of bass without being overpowering.  I've been using them for everything from podcasts to music to audiobooks, and they handle it all beautifully.  The touch controls are also super responsive and intuitive. One of the biggest selling points for me is the call quality.  These earbuds pick up my voice incredibly well, even in slightly noisy environments.  I've had no complaints from people I've spoken to, which is a huge plus.  And the fit? Perfect! They sit comfortably and securely in my ears, even during workouts.  I can wear them for hours without any discomfort or that feeling like they're going to fall out. Battery life has also been a pleasant surprise.  I've been using them for extended periods throughout the day, and I haven't experienced any significant battery drain.  The charging case is compact and convenient, making it easy to top them up on the go. Overall, I'm extremely happy with my boAt Airdopes Prime.  They offer excellent sound quality, a comfortable fit, great call clarity, and impressive battery life, all at a reasonable price point.  If you're looking for a reliable pair of earbuds for everyday use, I highly recommend giving these a try.  They've definitely earned a spot in my tech arsenal.\""
      ]
     },
     "execution_count": 58,
     "metadata": {},
     "output_type": "execute_result"
    }
   ],
   "source": [
    "review_text"
   ]
  },
  {
   "cell_type": "code",
   "execution_count": 61,
   "id": "d6d36fef",
   "metadata": {},
   "outputs": [
    {
     "data": {
      "text/html": [
       "<div>\n",
       "<style scoped>\n",
       "    .dataframe tbody tr th:only-of-type {\n",
       "        vertical-align: middle;\n",
       "    }\n",
       "\n",
       "    .dataframe tbody tr th {\n",
       "        vertical-align: top;\n",
       "    }\n",
       "\n",
       "    .dataframe thead th {\n",
       "        text-align: right;\n",
       "    }\n",
       "</style>\n",
       "<table border=\"1\" class=\"dataframe\">\n",
       "  <thead>\n",
       "    <tr style=\"text-align: right;\">\n",
       "      <th></th>\n",
       "      <th>date</th>\n",
       "      <th>review</th>\n",
       "    </tr>\n",
       "  </thead>\n",
       "  <tbody>\n",
       "    <tr>\n",
       "      <th>0</th>\n",
       "      <td>Reviewed in India on 6 February 2025</td>\n",
       "      <td>I've had my boAt Airdopes Prime for about a we...</td>\n",
       "    </tr>\n",
       "    <tr>\n",
       "      <th>1</th>\n",
       "      <td>Reviewed in India on 21 April 2025</td>\n",
       "      <td>A. PIECE. OF. GARBAGE!! I could give 0 freakin...</td>\n",
       "    </tr>\n",
       "    <tr>\n",
       "      <th>2</th>\n",
       "      <td>Reviewed in India on 30 May 2025</td>\n",
       "      <td>It's is awesome product at this minimum rate a...</td>\n",
       "    </tr>\n",
       "    <tr>\n",
       "      <th>3</th>\n",
       "      <td>Reviewed in India on 23 February 2025</td>\n",
       "      <td>I was looking for a decent No-Silicon grip typ...</td>\n",
       "    </tr>\n",
       "    <tr>\n",
       "      <th>4</th>\n",
       "      <td>Reviewed in India on 10 May 2025</td>\n",
       "      <td>Okayish product</td>\n",
       "    </tr>\n",
       "    <tr>\n",
       "      <th>5</th>\n",
       "      <td>Reviewed in India on 29 December 2024</td>\n",
       "      <td>This product is very amazing ...sound quality ...</td>\n",
       "    </tr>\n",
       "    <tr>\n",
       "      <th>6</th>\n",
       "      <td>Reviewed in India on 24 May 2025</td>\n",
       "      <td>It is worth of money that all features like to...</td>\n",
       "    </tr>\n",
       "    <tr>\n",
       "      <th>7</th>\n",
       "      <td>Reviewed in India on 3 April 2025</td>\n",
       "      <td>The product quality is very poor. Within a mon...</td>\n",
       "    </tr>\n",
       "    <tr>\n",
       "      <th>8</th>\n",
       "      <td>Reviewed in India on 24 March 2025</td>\n",
       "      <td>I'm excited to share my review of the boAt Air...</td>\n",
       "    </tr>\n",
       "    <tr>\n",
       "      <th>9</th>\n",
       "      <td>Reviewed in India on 18 May 2025</td>\n",
       "      <td>This product is good only thing is my ears is ...</td>\n",
       "    </tr>\n",
       "  </tbody>\n",
       "</table>\n",
       "</div>"
      ],
      "text/plain": [
       "                                    date  \\\n",
       "0   Reviewed in India on 6 February 2025   \n",
       "1     Reviewed in India on 21 April 2025   \n",
       "2       Reviewed in India on 30 May 2025   \n",
       "3  Reviewed in India on 23 February 2025   \n",
       "4       Reviewed in India on 10 May 2025   \n",
       "5  Reviewed in India on 29 December 2024   \n",
       "6       Reviewed in India on 24 May 2025   \n",
       "7      Reviewed in India on 3 April 2025   \n",
       "8     Reviewed in India on 24 March 2025   \n",
       "9       Reviewed in India on 18 May 2025   \n",
       "\n",
       "                                              review  \n",
       "0  I've had my boAt Airdopes Prime for about a we...  \n",
       "1  A. PIECE. OF. GARBAGE!! I could give 0 freakin...  \n",
       "2  It's is awesome product at this minimum rate a...  \n",
       "3  I was looking for a decent No-Silicon grip typ...  \n",
       "4                                    Okayish product  \n",
       "5  This product is very amazing ...sound quality ...  \n",
       "6  It is worth of money that all features like to...  \n",
       "7  The product quality is very poor. Within a mon...  \n",
       "8  I'm excited to share my review of the boAt Air...  \n",
       "9  This product is good only thing is my ears is ...  "
      ]
     },
     "execution_count": 61,
     "metadata": {},
     "output_type": "execute_result"
    }
   ],
   "source": [
    "dictionary = []\n",
    "\n",
    "for review in soup.find_all(\"li\",class_ = \"review aok-relative\"):\n",
    "    date = review.find(\"span\",class_ = \"a-size-base a-color-secondary review-date\")\n",
    "    review_text_span = review.find(\"span\",class_ = \"a-size-base review-text review-text-content\")\n",
    "    review_text = review_text_span.find(\"span\").get_text(separator=\" \", strip=True)\n",
    "    dictionary.append({\"date\":date.text,\"review\":review_text})\n",
    "    \n",
    "reviews_df = pd.DataFrame(dictionary)\n",
    "reviews_df"
   ]
  },
  {
   "cell_type": "code",
   "execution_count": null,
   "id": "0ce02dbb",
   "metadata": {},
   "outputs": [],
   "source": []
  }
 ],
 "metadata": {
  "kernelspec": {
   "display_name": "prophet",
   "language": "python",
   "name": "prophet"
  },
  "language_info": {
   "codemirror_mode": {
    "name": "ipython",
    "version": 3
   },
   "file_extension": ".py",
   "mimetype": "text/x-python",
   "name": "python",
   "nbconvert_exporter": "python",
   "pygments_lexer": "ipython3",
   "version": "3.13.3"
  }
 },
 "nbformat": 4,
 "nbformat_minor": 5
}
